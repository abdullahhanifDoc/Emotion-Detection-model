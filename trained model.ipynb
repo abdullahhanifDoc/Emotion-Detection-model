{
 "cells": [
  {
   "cell_type": "code",
   "execution_count": 1,
   "id": "3ee7b9db-5020-496d-ae27-74795e59bfa0",
   "metadata": {},
   "outputs": [],
   "source": [
    "import numpy as np\n",
    "import pandas as pd\n",
    "from keras.utils import to_categorical\n",
    "from keras_preprocessing.image import load_img\n",
    "from keras.models import Sequential\n",
    "from keras.layers import Dense, Conv2D, Dropout, Flatten, MaxPooling2D\n",
    "import os"
   ]
  },
  {
   "cell_type": "code",
   "execution_count": 2,
   "id": "742e6ecf-ae75-4349-8d4e-5a51ac0b4d2b",
   "metadata": {},
   "outputs": [],
   "source": [
    "TRAIN_DIR = 'images/train'\n",
    "TEST_DIR = 'images/test'"
   ]
  },
  {
   "cell_type": "code",
   "execution_count": 3,
   "id": "cf0ab92b-8dd2-42cd-90b1-a68c870cac9d",
   "metadata": {},
   "outputs": [],
   "source": [
    "def label_images(dir):\n",
    "    image_path = []\n",
    "    labels = []\n",
    "    for label in os.listdir(dir):\n",
    "        for imagename in os.listdir(os.path.join(dir,label)):\n",
    "            image_path.append(os.path.join(dir,label,imagename))\n",
    "            labels.append(label)\n",
    "        print(label,'completed')\n",
    "    return image_path, labels"
   ]
  },
  {
   "cell_type": "code",
   "execution_count": 4,
   "id": "5ca0aeae-0aab-415c-a16c-ad2aa91d25ff",
   "metadata": {},
   "outputs": [
    {
     "name": "stdout",
     "output_type": "stream",
     "text": [
      "angry completed\n",
      "disgust completed\n",
      "fear completed\n",
      "happy completed\n",
      "neutral completed\n",
      "sad completed\n",
      "surprise completed\n"
     ]
    }
   ],
   "source": [
    "train = pd.DataFrame()\n",
    "train['image'], train['label'] = label_images(TRAIN_DIR)"
   ]
  },
  {
   "cell_type": "code",
   "execution_count": 5,
   "id": "55e97ae7-5698-47f2-9b46-3633d284d896",
   "metadata": {},
   "outputs": [
    {
     "name": "stdout",
     "output_type": "stream",
     "text": [
      "angry completed\n",
      "disgust completed\n",
      "fear completed\n",
      "happy completed\n",
      "neutral completed\n",
      "sad completed\n",
      "surprise completed\n"
     ]
    }
   ],
   "source": [
    "test = pd.DataFrame()\n",
    "test['image'], test['label'] = label_images(TEST_DIR)"
   ]
  },
  {
   "cell_type": "code",
   "execution_count": 6,
   "id": "faea8b88-9a8d-4f73-87a4-85db43d3f550",
   "metadata": {},
   "outputs": [],
   "source": [
    "from tqdm.notebook import tqdm"
   ]
  },
  {
   "cell_type": "code",
   "execution_count": 7,
   "id": "ca916acc-a8e0-4ba9-aacf-03ab70bc0b4e",
   "metadata": {},
   "outputs": [],
   "source": [
    "def extract_features(images):\n",
    "    features = []\n",
    "    for image in tqdm(images):\n",
    "        img = load_img(image, grayscale=True)\n",
    "        img = np.array(img)\n",
    "        features.append(img)\n",
    "    features = np.array(features)\n",
    "    features = features.reshape(len(features),48,48,1)\n",
    "    return features"
   ]
  },
  {
   "cell_type": "code",
   "execution_count": 8,
   "id": "c0a96477-9813-48e8-8cda-09138d22619d",
   "metadata": {},
   "outputs": [
    {
     "data": {
      "application/vnd.jupyter.widget-view+json": {
       "model_id": "8124c1fd07c74483a9fc83cd4dfb3ea4",
       "version_major": 2,
       "version_minor": 0
      },
      "text/plain": [
       "  0%|          | 0/28821 [00:00<?, ?it/s]"
      ]
     },
     "metadata": {},
     "output_type": "display_data"
    },
    {
     "name": "stderr",
     "output_type": "stream",
     "text": [
      "F:\\anaconda\\envs\\face_detection_env\\lib\\site-packages\\keras_preprocessing\\image\\utils.py:107: UserWarning: grayscale is deprecated. Please use color_mode = \"grayscale\"\n",
      "  warnings.warn('grayscale is deprecated. Please use '\n"
     ]
    },
    {
     "data": {
      "application/vnd.jupyter.widget-view+json": {
       "model_id": "5701ad17f5824d699a737405c9f1f40d",
       "version_major": 2,
       "version_minor": 0
      },
      "text/plain": [
       "  0%|          | 0/7066 [00:00<?, ?it/s]"
      ]
     },
     "metadata": {},
     "output_type": "display_data"
    }
   ],
   "source": [
    "train_features = extract_features(train['image'])\n",
    "test_features = extract_features(test['image'])"
   ]
  },
  {
   "cell_type": "code",
   "execution_count": 9,
   "id": "2c775ca9-6168-4eaa-ba22-3f76b927b8a9",
   "metadata": {},
   "outputs": [],
   "source": [
    "x_train = train_features/255.0\n",
    "x_test = test_features/255.0"
   ]
  },
  {
   "cell_type": "code",
   "execution_count": 10,
   "id": "01090305-5d56-41f0-81f3-a9c49edce603",
   "metadata": {},
   "outputs": [],
   "source": [
    "from sklearn.preprocessing import LabelEncoder"
   ]
  },
  {
   "cell_type": "code",
   "execution_count": 11,
   "id": "771d8d85-068a-4975-9313-d22381d43ecc",
   "metadata": {},
   "outputs": [
    {
     "data": {
      "text/html": [
       "<style>#sk-container-id-1 {color: black;}#sk-container-id-1 pre{padding: 0;}#sk-container-id-1 div.sk-toggleable {background-color: white;}#sk-container-id-1 label.sk-toggleable__label {cursor: pointer;display: block;width: 100%;margin-bottom: 0;padding: 0.3em;box-sizing: border-box;text-align: center;}#sk-container-id-1 label.sk-toggleable__label-arrow:before {content: \"▸\";float: left;margin-right: 0.25em;color: #696969;}#sk-container-id-1 label.sk-toggleable__label-arrow:hover:before {color: black;}#sk-container-id-1 div.sk-estimator:hover label.sk-toggleable__label-arrow:before {color: black;}#sk-container-id-1 div.sk-toggleable__content {max-height: 0;max-width: 0;overflow: hidden;text-align: left;background-color: #f0f8ff;}#sk-container-id-1 div.sk-toggleable__content pre {margin: 0.2em;color: black;border-radius: 0.25em;background-color: #f0f8ff;}#sk-container-id-1 input.sk-toggleable__control:checked~div.sk-toggleable__content {max-height: 200px;max-width: 100%;overflow: auto;}#sk-container-id-1 input.sk-toggleable__control:checked~label.sk-toggleable__label-arrow:before {content: \"▾\";}#sk-container-id-1 div.sk-estimator input.sk-toggleable__control:checked~label.sk-toggleable__label {background-color: #d4ebff;}#sk-container-id-1 div.sk-label input.sk-toggleable__control:checked~label.sk-toggleable__label {background-color: #d4ebff;}#sk-container-id-1 input.sk-hidden--visually {border: 0;clip: rect(1px 1px 1px 1px);clip: rect(1px, 1px, 1px, 1px);height: 1px;margin: -1px;overflow: hidden;padding: 0;position: absolute;width: 1px;}#sk-container-id-1 div.sk-estimator {font-family: monospace;background-color: #f0f8ff;border: 1px dotted black;border-radius: 0.25em;box-sizing: border-box;margin-bottom: 0.5em;}#sk-container-id-1 div.sk-estimator:hover {background-color: #d4ebff;}#sk-container-id-1 div.sk-parallel-item::after {content: \"\";width: 100%;border-bottom: 1px solid gray;flex-grow: 1;}#sk-container-id-1 div.sk-label:hover label.sk-toggleable__label {background-color: #d4ebff;}#sk-container-id-1 div.sk-serial::before {content: \"\";position: absolute;border-left: 1px solid gray;box-sizing: border-box;top: 0;bottom: 0;left: 50%;z-index: 0;}#sk-container-id-1 div.sk-serial {display: flex;flex-direction: column;align-items: center;background-color: white;padding-right: 0.2em;padding-left: 0.2em;position: relative;}#sk-container-id-1 div.sk-item {position: relative;z-index: 1;}#sk-container-id-1 div.sk-parallel {display: flex;align-items: stretch;justify-content: center;background-color: white;position: relative;}#sk-container-id-1 div.sk-item::before, #sk-container-id-1 div.sk-parallel-item::before {content: \"\";position: absolute;border-left: 1px solid gray;box-sizing: border-box;top: 0;bottom: 0;left: 50%;z-index: -1;}#sk-container-id-1 div.sk-parallel-item {display: flex;flex-direction: column;z-index: 1;position: relative;background-color: white;}#sk-container-id-1 div.sk-parallel-item:first-child::after {align-self: flex-end;width: 50%;}#sk-container-id-1 div.sk-parallel-item:last-child::after {align-self: flex-start;width: 50%;}#sk-container-id-1 div.sk-parallel-item:only-child::after {width: 0;}#sk-container-id-1 div.sk-dashed-wrapped {border: 1px dashed gray;margin: 0 0.4em 0.5em 0.4em;box-sizing: border-box;padding-bottom: 0.4em;background-color: white;}#sk-container-id-1 div.sk-label label {font-family: monospace;font-weight: bold;display: inline-block;line-height: 1.2em;}#sk-container-id-1 div.sk-label-container {text-align: center;}#sk-container-id-1 div.sk-container {/* jupyter's `normalize.less` sets `[hidden] { display: none; }` but bootstrap.min.css set `[hidden] { display: none !important; }` so we also need the `!important` here to be able to override the default hidden behavior on the sphinx rendered scikit-learn.org. See: https://github.com/scikit-learn/scikit-learn/issues/21755 */display: inline-block !important;position: relative;}#sk-container-id-1 div.sk-text-repr-fallback {display: none;}</style><div id=\"sk-container-id-1\" class=\"sk-top-container\"><div class=\"sk-text-repr-fallback\"><pre>LabelEncoder()</pre><b>In a Jupyter environment, please rerun this cell to show the HTML representation or trust the notebook. <br />On GitHub, the HTML representation is unable to render, please try loading this page with nbviewer.org.</b></div><div class=\"sk-container\" hidden><div class=\"sk-item\"><div class=\"sk-estimator sk-toggleable\"><input class=\"sk-toggleable__control sk-hidden--visually\" id=\"sk-estimator-id-1\" type=\"checkbox\" checked><label for=\"sk-estimator-id-1\" class=\"sk-toggleable__label sk-toggleable__label-arrow\">LabelEncoder</label><div class=\"sk-toggleable__content\"><pre>LabelEncoder()</pre></div></div></div></div></div>"
      ],
      "text/plain": [
       "LabelEncoder()"
      ]
     },
     "execution_count": 11,
     "metadata": {},
     "output_type": "execute_result"
    }
   ],
   "source": [
    "le = LabelEncoder()\n",
    "le.fit(train['label'])"
   ]
  },
  {
   "cell_type": "code",
   "execution_count": 12,
   "id": "85f00367-6202-451a-b742-b9533c8d981e",
   "metadata": {},
   "outputs": [],
   "source": [
    "y_train = le.transform(train['label'])\n",
    "y_test = le.transform(test['label'])"
   ]
  },
  {
   "cell_type": "code",
   "execution_count": 13,
   "id": "96a375a7-9847-44a1-8efd-8be9bec17125",
   "metadata": {},
   "outputs": [],
   "source": [
    "y_train = to_categorical(y_train, num_classes=7)\n",
    "y_test = to_categorical(y_test, num_classes=7)"
   ]
  },
  {
   "cell_type": "code",
   "execution_count": 14,
   "id": "fef18a2b-8387-43a4-9137-3d8db135eb78",
   "metadata": {},
   "outputs": [],
   "source": [
    "model = Sequential()\n",
    "#convolution layer\n",
    "model.add(Conv2D(128, kernel_size=(3,3), activation='relu', input_shape=(48,48,1)))\n",
    "model.add(MaxPooling2D(pool_size=(2,2)))\n",
    "model.add(Dropout(0.4))\n",
    "\n",
    "model.add(Conv2D(256, kernel_size=(3,3), activation='relu'))\n",
    "model.add(MaxPooling2D(pool_size=(2,2)))\n",
    "model.add(Dropout(0.4))\n",
    "\n",
    "model.add(Conv2D(512, kernel_size=(3,3), activation='relu'))\n",
    "model.add(MaxPooling2D(pool_size=(2,2)))\n",
    "model.add(Dropout(0.4))\n",
    "\n",
    "model.add(Flatten())\n",
    "#fully connected layers\n",
    "model.add(Dense(512, activation='relu'))\n",
    "model.add(Dropout(0.4))\n",
    "model.add(Dense(256, activation='relu'))\n",
    "model.add(Dropout(0.3))\n",
    "#output class\n",
    "model.add(Dense(7, activation='softmax'))"
   ]
  },
  {
   "cell_type": "code",
   "execution_count": 15,
   "id": "45fc21c1-aaa2-46ac-a2ae-15ed7c74892a",
   "metadata": {},
   "outputs": [],
   "source": [
    "model.compile(optimizer='adam', loss='categorical_crossentropy', metrics=['accuracy'])"
   ]
  },
  {
   "cell_type": "code",
   "execution_count": 16,
   "id": "c6b490ff-676b-4b01-8a59-09aec2d3e4df",
   "metadata": {},
   "outputs": [
    {
     "name": "stdout",
     "output_type": "stream",
     "text": [
      "Epoch 1/100\n",
      "901/901 [==============================] - 968s 1s/step - loss: 1.7952 - accuracy: 0.2552 - val_loss: 1.6770 - val_accuracy: 0.3132\n",
      "Epoch 2/100\n",
      "901/901 [==============================] - 965s 1s/step - loss: 1.6288 - accuracy: 0.3570 - val_loss: 1.5279 - val_accuracy: 0.4304\n",
      "Epoch 3/100\n",
      "901/901 [==============================] - 957s 1s/step - loss: 1.5198 - accuracy: 0.4061 - val_loss: 1.4057 - val_accuracy: 0.4645\n",
      "Epoch 4/100\n",
      "901/901 [==============================] - 952s 1s/step - loss: 1.4551 - accuracy: 0.4339 - val_loss: 1.3465 - val_accuracy: 0.4884\n",
      "Epoch 5/100\n",
      "901/901 [==============================] - 975s 1s/step - loss: 1.4085 - accuracy: 0.4567 - val_loss: 1.2944 - val_accuracy: 0.5007\n",
      "Epoch 6/100\n",
      "901/901 [==============================] - 933s 1s/step - loss: 1.3796 - accuracy: 0.4681 - val_loss: 1.2830 - val_accuracy: 0.5146\n",
      "Epoch 7/100\n",
      "901/901 [==============================] - 523s 581ms/step - loss: 1.3402 - accuracy: 0.4869 - val_loss: 1.2437 - val_accuracy: 0.5287\n",
      "Epoch 8/100\n",
      "901/901 [==============================] - 537s 596ms/step - loss: 1.3179 - accuracy: 0.4948 - val_loss: 1.2239 - val_accuracy: 0.5358\n",
      "Epoch 9/100\n",
      "901/901 [==============================] - 537s 597ms/step - loss: 1.3031 - accuracy: 0.5031 - val_loss: 1.2152 - val_accuracy: 0.5425\n",
      "Epoch 10/100\n",
      "901/901 [==============================] - 527s 585ms/step - loss: 1.2808 - accuracy: 0.5142 - val_loss: 1.1956 - val_accuracy: 0.5488\n",
      "Epoch 11/100\n",
      "901/901 [==============================] - 530s 588ms/step - loss: 1.2662 - accuracy: 0.5172 - val_loss: 1.2126 - val_accuracy: 0.5365\n",
      "Epoch 12/100\n",
      "901/901 [==============================] - 538s 597ms/step - loss: 1.2563 - accuracy: 0.5232 - val_loss: 1.1914 - val_accuracy: 0.5456\n",
      "Epoch 13/100\n",
      "901/901 [==============================] - 537s 596ms/step - loss: 1.2443 - accuracy: 0.5248 - val_loss: 1.1658 - val_accuracy: 0.5590\n",
      "Epoch 14/100\n",
      "901/901 [==============================] - 535s 594ms/step - loss: 1.2327 - accuracy: 0.5320 - val_loss: 1.1625 - val_accuracy: 0.5701\n",
      "Epoch 15/100\n",
      "901/901 [==============================] - 531s 590ms/step - loss: 1.2174 - accuracy: 0.5382 - val_loss: 1.1594 - val_accuracy: 0.5641\n",
      "Epoch 16/100\n",
      "901/901 [==============================] - 531s 590ms/step - loss: 1.2030 - accuracy: 0.5435 - val_loss: 1.1692 - val_accuracy: 0.5628\n",
      "Epoch 17/100\n",
      "901/901 [==============================] - 537s 596ms/step - loss: 1.1907 - accuracy: 0.5479 - val_loss: 1.1628 - val_accuracy: 0.5659\n",
      "Epoch 18/100\n",
      "901/901 [==============================] - 536s 595ms/step - loss: 1.1835 - accuracy: 0.5544 - val_loss: 1.1734 - val_accuracy: 0.5566\n",
      "Epoch 19/100\n",
      "901/901 [==============================] - 536s 595ms/step - loss: 1.1734 - accuracy: 0.5540 - val_loss: 1.1658 - val_accuracy: 0.5563\n",
      "Epoch 20/100\n",
      "901/901 [==============================] - 537s 596ms/step - loss: 1.1671 - accuracy: 0.5552 - val_loss: 1.1441 - val_accuracy: 0.5753\n",
      "Epoch 21/100\n",
      "901/901 [==============================] - 564s 627ms/step - loss: 1.1524 - accuracy: 0.5634 - val_loss: 1.1412 - val_accuracy: 0.5722\n",
      "Epoch 22/100\n",
      "901/901 [==============================] - 530s 589ms/step - loss: 1.1398 - accuracy: 0.5708 - val_loss: 1.1220 - val_accuracy: 0.5787\n",
      "Epoch 23/100\n",
      "901/901 [==============================] - 530s 588ms/step - loss: 1.1393 - accuracy: 0.5690 - val_loss: 1.1425 - val_accuracy: 0.5718\n",
      "Epoch 24/100\n",
      "901/901 [==============================] - 521s 578ms/step - loss: 1.1230 - accuracy: 0.5756 - val_loss: 1.1377 - val_accuracy: 0.5736\n",
      "Epoch 25/100\n",
      "901/901 [==============================] - 522s 580ms/step - loss: 1.1126 - accuracy: 0.5795 - val_loss: 1.1265 - val_accuracy: 0.5773\n",
      "Epoch 26/100\n",
      "901/901 [==============================] - 522s 580ms/step - loss: 1.1047 - accuracy: 0.5856 - val_loss: 1.1049 - val_accuracy: 0.5873\n",
      "Epoch 27/100\n",
      "901/901 [==============================] - 522s 579ms/step - loss: 1.0995 - accuracy: 0.5879 - val_loss: 1.1128 - val_accuracy: 0.5855\n",
      "Epoch 28/100\n",
      "901/901 [==============================] - 522s 580ms/step - loss: 1.0823 - accuracy: 0.5925 - val_loss: 1.1059 - val_accuracy: 0.5916\n",
      "Epoch 29/100\n",
      "901/901 [==============================] - 524s 581ms/step - loss: 1.0827 - accuracy: 0.5941 - val_loss: 1.1167 - val_accuracy: 0.5825\n",
      "Epoch 30/100\n",
      "901/901 [==============================] - 525s 582ms/step - loss: 1.0781 - accuracy: 0.5971 - val_loss: 1.1134 - val_accuracy: 0.5842\n",
      "Epoch 31/100\n",
      "901/901 [==============================] - 524s 581ms/step - loss: 1.0616 - accuracy: 0.6005 - val_loss: 1.1255 - val_accuracy: 0.5818\n",
      "Epoch 32/100\n",
      "901/901 [==============================] - 522s 580ms/step - loss: 1.0549 - accuracy: 0.6029 - val_loss: 1.1374 - val_accuracy: 0.5836\n",
      "Epoch 33/100\n",
      "901/901 [==============================] - 523s 581ms/step - loss: 1.0467 - accuracy: 0.6071 - val_loss: 1.1048 - val_accuracy: 0.5882\n",
      "Epoch 34/100\n",
      "901/901 [==============================] - 525s 582ms/step - loss: 1.0497 - accuracy: 0.6081 - val_loss: 1.0975 - val_accuracy: 0.5933\n",
      "Epoch 35/100\n",
      "901/901 [==============================] - 523s 581ms/step - loss: 1.0414 - accuracy: 0.6091 - val_loss: 1.1193 - val_accuracy: 0.5887\n",
      "Epoch 36/100\n",
      "901/901 [==============================] - 525s 583ms/step - loss: 1.0337 - accuracy: 0.6138 - val_loss: 1.1002 - val_accuracy: 0.5938\n",
      "Epoch 37/100\n",
      "901/901 [==============================] - 540s 599ms/step - loss: 1.0230 - accuracy: 0.6159 - val_loss: 1.1051 - val_accuracy: 0.5890\n",
      "Epoch 38/100\n",
      "901/901 [==============================] - 537s 596ms/step - loss: 1.0142 - accuracy: 0.6211 - val_loss: 1.0978 - val_accuracy: 0.5914\n",
      "Epoch 39/100\n",
      "901/901 [==============================] - 538s 597ms/step - loss: 1.0107 - accuracy: 0.6276 - val_loss: 1.1076 - val_accuracy: 0.5926\n",
      "Epoch 40/100\n",
      "901/901 [==============================] - 528s 586ms/step - loss: 1.0042 - accuracy: 0.6256 - val_loss: 1.1040 - val_accuracy: 0.5931\n",
      "Epoch 41/100\n",
      "901/901 [==============================] - 525s 583ms/step - loss: 0.9880 - accuracy: 0.6311 - val_loss: 1.0976 - val_accuracy: 0.5955\n",
      "Epoch 42/100\n",
      "901/901 [==============================] - 523s 581ms/step - loss: 0.9869 - accuracy: 0.6330 - val_loss: 1.1077 - val_accuracy: 0.5913\n",
      "Epoch 43/100\n",
      "901/901 [==============================] - 539s 598ms/step - loss: 0.9831 - accuracy: 0.6311 - val_loss: 1.1026 - val_accuracy: 0.5926\n",
      "Epoch 44/100\n",
      "901/901 [==============================] - 536s 595ms/step - loss: 0.9736 - accuracy: 0.6373 - val_loss: 1.1069 - val_accuracy: 0.5944\n",
      "Epoch 45/100\n",
      "901/901 [==============================] - 537s 596ms/step - loss: 0.9764 - accuracy: 0.6395 - val_loss: 1.0913 - val_accuracy: 0.5985\n",
      "Epoch 46/100\n",
      "901/901 [==============================] - 532s 591ms/step - loss: 0.9625 - accuracy: 0.6423 - val_loss: 1.0838 - val_accuracy: 0.5992\n",
      "Epoch 47/100\n",
      "901/901 [==============================] - 525s 582ms/step - loss: 0.9531 - accuracy: 0.6485 - val_loss: 1.0863 - val_accuracy: 0.6053\n",
      "Epoch 48/100\n",
      "901/901 [==============================] - 524s 581ms/step - loss: 0.9481 - accuracy: 0.6484 - val_loss: 1.1000 - val_accuracy: 0.5926\n",
      "Epoch 49/100\n",
      "901/901 [==============================] - 577s 641ms/step - loss: 0.9485 - accuracy: 0.6468 - val_loss: 1.1122 - val_accuracy: 0.5882\n",
      "Epoch 50/100\n",
      "901/901 [==============================] - 955s 1s/step - loss: 0.9410 - accuracy: 0.6547 - val_loss: 1.0901 - val_accuracy: 0.6008\n",
      "Epoch 51/100\n",
      "901/901 [==============================] - 959s 1s/step - loss: 0.9355 - accuracy: 0.6502 - val_loss: 1.0861 - val_accuracy: 0.6023\n",
      "Epoch 52/100\n",
      "901/901 [==============================] - 959s 1s/step - loss: 0.9233 - accuracy: 0.6579 - val_loss: 1.0827 - val_accuracy: 0.6022\n",
      "Epoch 53/100\n",
      "901/901 [==============================] - 958s 1s/step - loss: 0.9174 - accuracy: 0.6589 - val_loss: 1.1004 - val_accuracy: 0.6043\n",
      "Epoch 54/100\n",
      "901/901 [==============================] - 958s 1s/step - loss: 0.9093 - accuracy: 0.6645 - val_loss: 1.0940 - val_accuracy: 0.5998\n",
      "Epoch 55/100\n",
      "901/901 [==============================] - 954s 1s/step - loss: 0.9041 - accuracy: 0.6656 - val_loss: 1.0855 - val_accuracy: 0.6025\n",
      "Epoch 56/100\n",
      "901/901 [==============================] - 954s 1s/step - loss: 0.9035 - accuracy: 0.6672 - val_loss: 1.1006 - val_accuracy: 0.5945\n",
      "Epoch 57/100\n",
      "901/901 [==============================] - 961s 1s/step - loss: 0.9068 - accuracy: 0.6671 - val_loss: 1.0893 - val_accuracy: 0.6009\n",
      "Epoch 58/100\n",
      "901/901 [==============================] - 960s 1s/step - loss: 0.8909 - accuracy: 0.6725 - val_loss: 1.0929 - val_accuracy: 0.5974\n",
      "Epoch 59/100\n",
      "901/901 [==============================] - 906s 1s/step - loss: 0.8926 - accuracy: 0.6736 - val_loss: 1.0905 - val_accuracy: 0.5981\n",
      "Epoch 60/100\n",
      "901/901 [==============================] - 539s 598ms/step - loss: 0.8886 - accuracy: 0.6752 - val_loss: 1.0865 - val_accuracy: 0.6033\n",
      "Epoch 61/100\n",
      "901/901 [==============================] - 536s 595ms/step - loss: 0.8728 - accuracy: 0.6809 - val_loss: 1.0859 - val_accuracy: 0.6059\n",
      "Epoch 62/100\n",
      "901/901 [==============================] - 537s 595ms/step - loss: 0.8752 - accuracy: 0.6802 - val_loss: 1.1071 - val_accuracy: 0.6010\n",
      "Epoch 63/100\n",
      "901/901 [==============================] - 532s 590ms/step - loss: 0.8685 - accuracy: 0.6814 - val_loss: 1.1017 - val_accuracy: 0.5945\n",
      "Epoch 64/100\n",
      "901/901 [==============================] - 523s 580ms/step - loss: 0.8718 - accuracy: 0.6795 - val_loss: 1.1163 - val_accuracy: 0.5984\n",
      "Epoch 65/100\n",
      "901/901 [==============================] - 523s 581ms/step - loss: 0.8588 - accuracy: 0.6892 - val_loss: 1.1028 - val_accuracy: 0.5876\n",
      "Epoch 66/100\n",
      "901/901 [==============================] - 522s 580ms/step - loss: 0.8513 - accuracy: 0.6898 - val_loss: 1.0892 - val_accuracy: 0.6026\n",
      "Epoch 67/100\n",
      "901/901 [==============================] - 524s 581ms/step - loss: 0.8503 - accuracy: 0.6873 - val_loss: 1.1019 - val_accuracy: 0.6047\n",
      "Epoch 68/100\n",
      "901/901 [==============================] - 525s 583ms/step - loss: 0.8465 - accuracy: 0.6932 - val_loss: 1.1071 - val_accuracy: 0.6042\n",
      "Epoch 69/100\n",
      "901/901 [==============================] - 525s 583ms/step - loss: 0.8428 - accuracy: 0.6961 - val_loss: 1.0931 - val_accuracy: 0.6018\n",
      "Epoch 70/100\n",
      "901/901 [==============================] - 524s 582ms/step - loss: 0.8267 - accuracy: 0.6993 - val_loss: 1.1055 - val_accuracy: 0.6001\n",
      "Epoch 71/100\n",
      "901/901 [==============================] - 523s 581ms/step - loss: 0.8251 - accuracy: 0.6995 - val_loss: 1.0978 - val_accuracy: 0.6063\n",
      "Epoch 72/100\n",
      "901/901 [==============================] - 523s 580ms/step - loss: 0.8291 - accuracy: 0.6998 - val_loss: 1.1179 - val_accuracy: 0.6047\n",
      "Epoch 73/100\n",
      "901/901 [==============================] - 525s 582ms/step - loss: 0.8253 - accuracy: 0.7004 - val_loss: 1.1185 - val_accuracy: 0.6030\n",
      "Epoch 74/100\n",
      "901/901 [==============================] - 524s 582ms/step - loss: 0.8149 - accuracy: 0.7041 - val_loss: 1.1467 - val_accuracy: 0.5913\n",
      "Epoch 75/100\n",
      "901/901 [==============================] - 523s 580ms/step - loss: 0.8151 - accuracy: 0.7037 - val_loss: 1.1009 - val_accuracy: 0.6037\n",
      "Epoch 76/100\n",
      "901/901 [==============================] - 522s 579ms/step - loss: 0.8120 - accuracy: 0.7091 - val_loss: 1.1047 - val_accuracy: 0.6033\n",
      "Epoch 77/100\n",
      "901/901 [==============================] - 523s 581ms/step - loss: 0.7986 - accuracy: 0.7087 - val_loss: 1.0978 - val_accuracy: 0.6139\n",
      "Epoch 78/100\n",
      "901/901 [==============================] - 524s 581ms/step - loss: 0.8056 - accuracy: 0.7087 - val_loss: 1.1027 - val_accuracy: 0.6059\n",
      "Epoch 79/100\n",
      "901/901 [==============================] - 523s 580ms/step - loss: 0.7872 - accuracy: 0.7145 - val_loss: 1.0987 - val_accuracy: 0.6064\n",
      "Epoch 80/100\n",
      "901/901 [==============================] - 524s 581ms/step - loss: 0.7845 - accuracy: 0.7179 - val_loss: 1.1060 - val_accuracy: 0.6067\n",
      "Epoch 81/100\n",
      "901/901 [==============================] - 523s 580ms/step - loss: 0.7784 - accuracy: 0.7199 - val_loss: 1.1110 - val_accuracy: 0.6005\n",
      "Epoch 82/100\n",
      "901/901 [==============================] - 525s 583ms/step - loss: 0.7830 - accuracy: 0.7178 - val_loss: 1.1160 - val_accuracy: 0.6009\n",
      "Epoch 83/100\n",
      "901/901 [==============================] - 526s 584ms/step - loss: 0.7670 - accuracy: 0.7250 - val_loss: 1.1089 - val_accuracy: 0.5937\n",
      "Epoch 84/100\n",
      "901/901 [==============================] - 526s 583ms/step - loss: 0.7721 - accuracy: 0.7196 - val_loss: 1.1121 - val_accuracy: 0.6033\n",
      "Epoch 85/100\n",
      "901/901 [==============================] - 526s 583ms/step - loss: 0.7667 - accuracy: 0.7260 - val_loss: 1.1085 - val_accuracy: 0.6100\n",
      "Epoch 86/100\n",
      "901/901 [==============================] - 523s 581ms/step - loss: 0.7710 - accuracy: 0.7224 - val_loss: 1.1026 - val_accuracy: 0.6044\n",
      "Epoch 87/100\n",
      "901/901 [==============================] - 524s 582ms/step - loss: 0.7712 - accuracy: 0.7231 - val_loss: 1.0903 - val_accuracy: 0.6118\n",
      "Epoch 88/100\n",
      "901/901 [==============================] - 523s 580ms/step - loss: 0.7696 - accuracy: 0.7258 - val_loss: 1.1032 - val_accuracy: 0.6128\n",
      "Epoch 89/100\n",
      "901/901 [==============================] - 523s 580ms/step - loss: 0.7569 - accuracy: 0.7286 - val_loss: 1.1050 - val_accuracy: 0.5988\n",
      "Epoch 90/100\n",
      "901/901 [==============================] - 524s 581ms/step - loss: 0.7553 - accuracy: 0.7303 - val_loss: 1.1046 - val_accuracy: 0.6101\n",
      "Epoch 91/100\n",
      "901/901 [==============================] - 524s 582ms/step - loss: 0.7398 - accuracy: 0.7334 - val_loss: 1.1198 - val_accuracy: 0.6073\n",
      "Epoch 92/100\n",
      "901/901 [==============================] - 523s 581ms/step - loss: 0.7439 - accuracy: 0.7348 - val_loss: 1.1180 - val_accuracy: 0.6083\n",
      "Epoch 93/100\n",
      "901/901 [==============================] - 757s 840ms/step - loss: 0.7436 - accuracy: 0.7330 - val_loss: 1.1015 - val_accuracy: 0.6122\n",
      "Epoch 94/100\n",
      "901/901 [==============================] - 952s 1s/step - loss: 0.7454 - accuracy: 0.7327 - val_loss: 1.1269 - val_accuracy: 0.6018\n",
      "Epoch 95/100\n",
      "901/901 [==============================] - 957s 1s/step - loss: 0.7368 - accuracy: 0.7377 - val_loss: 1.1178 - val_accuracy: 0.6115\n",
      "Epoch 96/100\n",
      "901/901 [==============================] - 959s 1s/step - loss: 0.7436 - accuracy: 0.7361 - val_loss: 1.1236 - val_accuracy: 0.5965\n",
      "Epoch 97/100\n",
      "901/901 [==============================] - 952s 1s/step - loss: 0.7321 - accuracy: 0.7418 - val_loss: 1.1116 - val_accuracy: 0.6047\n",
      "Epoch 98/100\n",
      "901/901 [==============================] - 956s 1s/step - loss: 0.7288 - accuracy: 0.7432 - val_loss: 1.1315 - val_accuracy: 0.6066\n",
      "Epoch 99/100\n",
      "901/901 [==============================] - 960s 1s/step - loss: 0.7158 - accuracy: 0.7466 - val_loss: 1.1172 - val_accuracy: 0.6042\n",
      "Epoch 100/100\n",
      "901/901 [==============================] - 962s 1s/step - loss: 0.7076 - accuracy: 0.7468 - val_loss: 1.1202 - val_accuracy: 0.6095\n"
     ]
    },
    {
     "data": {
      "text/plain": [
       "<keras.callbacks.History at 0x1ed644e98e0>"
      ]
     },
     "execution_count": 16,
     "metadata": {},
     "output_type": "execute_result"
    }
   ],
   "source": [
    "model.fit(x=x_train, y=y_train, batch_size=32, epochs=100, validation_data=(x_test,y_test))"
   ]
  },
  {
   "cell_type": "code",
   "execution_count": 18,
   "id": "1f6f7f13-108a-45ff-8046-87e9509af03c",
   "metadata": {},
   "outputs": [],
   "source": [
    "model_json = model.to_json()\n",
    "with open(\"emotiondetector.json\",\"w\") as json_file:\n",
    "    json_file.write(model_json)\n",
    "model.save(\"emotiondetector.h5\")"
   ]
  },
  {
   "cell_type": "code",
   "execution_count": 21,
   "id": "40aff9fd-ff8c-4910-9e11-3574d444c618",
   "metadata": {},
   "outputs": [],
   "source": [
    "from tensorflow.keras.models import model_from_json"
   ]
  },
  {
   "cell_type": "code",
   "execution_count": 22,
   "id": "078595eb-edcc-41b1-963e-0fd95c0d1c0f",
   "metadata": {},
   "outputs": [],
   "source": [
    "json_file = open(\"emotiondetector.json\",\"r\")\n",
    "model_json = json_file.read()\n",
    "json_file.close()\n",
    "model = model_from_json(model_json)\n",
    "model.load_weights(\"emotiondetector.h5\")"
   ]
  },
  {
   "cell_type": "code",
   "execution_count": 23,
   "id": "547a161a-cc8a-43f1-96f8-a3898a2841b6",
   "metadata": {},
   "outputs": [],
   "source": [
    "label = ['angry','disgust','fear','happy','neutral','sad','surprise']"
   ]
  },
  {
   "cell_type": "code",
   "execution_count": 26,
   "id": "09df1d9d-d18b-49cd-b82d-c1088533bbed",
   "metadata": {},
   "outputs": [],
   "source": [
    "def ef(image):\n",
    "    img = load_img(image, grayscale = True)\n",
    "    feature = np.array(img)\n",
    "    feature = feature.reshape(1,48,48,1)\n",
    "    return feature/255.0"
   ]
  },
  {
   "cell_type": "code",
   "execution_count": 31,
   "id": "655256a3-e0f0-410b-8bd9-af7649086722",
   "metadata": {},
   "outputs": [
    {
     "name": "stdout",
     "output_type": "stream",
     "text": [
      "original image is of fear\n",
      "1/1 [==============================] - 0s 31ms/step\n",
      "model prediction is  fear\n"
     ]
    }
   ],
   "source": [
    "image = \"images/train/fear/2.jpg\"\n",
    "print(\"original image is of fear\")\n",
    "img = ef(image)\n",
    "pred = model.predict(img)\n",
    "pred_label = label[pred.argmax()]\n",
    "print(\"model prediction is \",pred_label)"
   ]
  },
  {
   "cell_type": "code",
   "execution_count": null,
   "id": "e9b9a4e7-c539-475e-99ed-10c5737f34d9",
   "metadata": {},
   "outputs": [],
   "source": []
  }
 ],
 "metadata": {
  "kernelspec": {
   "display_name": "Python (AI_env)",
   "language": "python",
   "name": "ai_env"
  },
  "language_info": {
   "codemirror_mode": {
    "name": "ipython",
    "version": 3
   },
   "file_extension": ".py",
   "mimetype": "text/x-python",
   "name": "python",
   "nbconvert_exporter": "python",
   "pygments_lexer": "ipython3",
   "version": "3.9.21"
  }
 },
 "nbformat": 4,
 "nbformat_minor": 5
}
